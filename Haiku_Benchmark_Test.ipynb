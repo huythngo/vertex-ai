{
  "nbformat": 4,
  "nbformat_minor": 0,
  "metadata": {
    "colab": {
      "provenance": [],
      "authorship_tag": "ABX9TyPXe5Zi3H6k2puR8nFtccWi",
      "include_colab_link": true
    },
    "kernelspec": {
      "name": "python3",
      "display_name": "Python 3"
    },
    "language_info": {
      "name": "python"
    }
  },
  "cells": [
    {
      "cell_type": "markdown",
      "metadata": {
        "id": "view-in-github",
        "colab_type": "text"
      },
      "source": [
        "<a href=\"https://colab.research.google.com/github/huythngo/vertex-ai/blob/main/Haiku_Benchmark_Test.ipynb\" target=\"_parent\"><img src=\"https://colab.research.google.com/assets/colab-badge.svg\" alt=\"Open In Colab\"/></a>"
      ]
    },
    {
      "cell_type": "markdown",
      "source": [
        "### Setup"
      ],
      "metadata": {
        "id": "yXXO0D1f4ywY"
      }
    },
    {
      "cell_type": "code",
      "execution_count": 1,
      "metadata": {
        "id": "6KmlM48_3ylG"
      },
      "outputs": [],
      "source": [
        "import time\n",
        "import json\n",
        "\n",
        "PROJECT_ID = 'cloud-llm-preview1'  # @param {type: \"string\"}\n",
        "MODEL = \"claude-3-haiku@20240307\"\n",
        "REGION = \"us-central1\"\n",
        "\n",
        "ENDPOINT=f\"https://{REGION}-aiplatform.googleapis.com\"\n"
      ]
    },
    {
      "cell_type": "code",
      "source": [
        "from google.colab import auth\n",
        "auth.authenticate_user(project_id=PROJECT_ID)"
      ],
      "metadata": {
        "id": "dNTCVpZ74P9N"
      },
      "execution_count": 2,
      "outputs": []
    },
    {
      "cell_type": "code",
      "source": [
        "!pip install -U 'anthropic[vertex]'\n",
        "!pip install httpx"
      ],
      "metadata": {
        "id": "uVN8HvPT4yMt"
      },
      "execution_count": null,
      "outputs": []
    },
    {
      "cell_type": "markdown",
      "source": [
        "## Test"
      ],
      "metadata": {
        "id": "H5rHI0qoH8hY"
      }
    },
    {
      "cell_type": "code",
      "source": [
        "prompt =\"\"\" <system>\n",
        "                You are a content writer for Walmart.com, specializing in creating engaging and informative product descriptions that follow Walmart's content guidelines.\n",
        "            </system>\n",
        "\n",
        "            <user>\n",
        "                Use the following procedure to generate the new product long description:\n",
        "                1. Carefully extract all the important product features from <title></title>, <short_description></short_description>, <existing-long-description></existing-long-description>, <key-attributes></key-attributes> tags. Only extract the features that is explicitly provided.\n",
        "                2. Go through the <rules> provided below.\n",
        "                3. Generate the new product long description with one bullet point per extracted product feature in the following format: <ul><li>Bullet Point for Feature 1</li><li>Bullet Point for Feature 2</li><li>Bullet Point for Feature 3</li></ul>.\n",
        "\n",
        "                <rules>\n",
        "                    <rule>Do not repeat the same information from the short-description or convert your Product Short Description into bullets.</rule>\n",
        "                    <rule>Do not include any spelling errors.</rule>\n",
        "                    <rule>Avoid using special characters like ~, !, *, $, #, ^, &, `, @, /, +, |.</rule>\n",
        "                    <rule>Do not use promotional phrases like “best-selling” or “free shipping”.</rule>\n",
        "                    <rule>Do not include links, references to other retailers like Amazon, Target, Home Depot, Ebay etc.</rule>\n",
        "                    <rule>Do not include any text that mentions another retailer like Amazon, Target, Home Depot, Ebay etc.</rule>\n",
        "                </rules>\n",
        "\n",
        "                <title>HP 511785-001 HP ML370 G6 SFF BACKPLANE</title>\n",
        "                <short-description><p>New open box HP 511785-001 HP ML370 G6 SFF BACKPLANE. Save money off MSRP on this HP 511785-001 and even more when buying in bulk. Contact us directly for bulk pricing on the 511785-001.</p> <p>This new open box HP 511785-001 is covered by the Core 4 Solutions 90 day warranty.  We always attempt to ship your order same day, and will do the same on this HP 511785-001. Guaranteed best price on the web - if you find the 511785-001 for less, let us know and we will do our best to beat the price. Contact us directly for deeper discounts on the 511785-001. info@core4solutions.com or 1-855-55-CORE4</p></short-description>\n",
        "                <existing-long-description>HP 511785-001 HP ML370 G6 SFF BACKPLANE</existing-long-description>\n",
        "                <key-attributes>\n",
        "                    {'brand': 'HP', 'manufacturer': 'HP', 'manufacturer_part_number': '511785-001'}\n",
        "                </key-attributes>\n",
        "\n",
        "                Before generating the output, please think about it step-by-step within <thinking></thinking> tags. Then, provide the new product long description within <new_product_long_description></new_product_long_description> tags.\n",
        "            </user>\"\"\""
      ],
      "metadata": {
        "id": "ByImohY55hGe"
      },
      "execution_count": 4,
      "outputs": []
    },
    {
      "cell_type": "code",
      "source": [
        "from anthropic import AnthropicVertex\n",
        "import base64\n",
        "import httpx\n",
        "client = AnthropicVertex(region=REGION, project_id=PROJECT_ID)\n",
        "\n",
        "\n",
        "import datetime\n",
        "import pytz\n",
        "\n",
        "\n",
        "print(\"start time: \" + str(datetime.datetime.utcnow().astimezone(pytz.timezone('US/Pacific'))))\n",
        "arr = []\n",
        "t = 0\n",
        "count = 100\n",
        "for i in range(count):\n",
        "  start = time.time()\n",
        "  message = client.messages.create(\n",
        "      max_tokens=1024,\n",
        "      temperature=0.3,\n",
        "      messages=[\n",
        "          {\n",
        "              \"role\": \"user\",\n",
        "              \"content\": prompt,\n",
        "          }\n",
        "      ],\n",
        "      model=MODEL,\n",
        "  )\n",
        "  latency = time.time() - start\n",
        "  arr.append(latency)\n",
        "  t += latency\n",
        "print(\"end time: \" + str(datetime.datetime.utcnow().astimezone(pytz.timezone('US/Pacific'))))\n",
        "print(\"average latency: \" + str(t/count))\n",
        "print(arr)"
      ],
      "metadata": {
        "colab": {
          "base_uri": "https://localhost:8080/"
        },
        "id": "Rk4CuHhz4V50",
        "outputId": "9abe8c47-cb91-49a1-c85f-cd203bcf6cce"
      },
      "execution_count": 5,
      "outputs": [
        {
          "output_type": "stream",
          "name": "stdout",
          "text": [
            "start time: 2024-05-23 13:28:11.924813-07:00\n",
            "end time: 2024-05-23 13:34:23.477276-07:00\n",
            "average latency: 3.7151734948158266\n",
            "[4.11676287651062, 3.9320826530456543, 3.5740859508514404, 4.040384292602539, 3.469104528427124, 3.3571460247039795, 4.054556131362915, 3.397819757461548, 3.465240716934204, 3.527087688446045, 3.4837894439697266, 3.9536752700805664, 3.3227410316467285, 3.7899768352508545, 3.766899824142456, 3.4635910987854004, 3.9940037727355957, 3.9100098609924316, 3.5693936347961426, 4.108062028884888, 3.4233832359313965, 3.5325796604156494, 3.909302234649658, 3.6448819637298584, 3.863693952560425, 3.572144031524658, 3.7342724800109863, 3.2300374507904053, 3.586301565170288, 3.9478938579559326, 3.7487387657165527, 3.6409518718719482, 3.264946222305298, 3.877797842025757, 3.5292677879333496, 3.752542018890381, 4.1005940437316895, 3.5041487216949463, 3.5211963653564453, 3.924729347229004, 3.849139928817749, 3.5946507453918457, 4.557789325714111, 3.478318691253662, 4.067579507827759, 3.953059196472168, 4.277148962020874, 3.9133269786834717, 3.9860403537750244, 3.3087735176086426, 3.8528406620025635, 3.962641954421997, 3.8696396350860596, 3.522404670715332, 3.252039670944214, 4.217513084411621, 3.6191599369049072, 4.649730920791626, 4.032695770263672, 3.7205183506011963, 3.368586301803589, 3.927039623260498, 4.073788642883301, 3.592966079711914, 3.9684839248657227, 3.6685447692871094, 3.625229597091675, 3.3981096744537354, 3.9692745208740234, 4.2155609130859375, 3.939432144165039, 3.631394386291504, 3.7977304458618164, 3.591404676437378, 4.059251070022583, 3.7008376121520996, 3.398939847946167, 3.81400728225708, 3.6066672801971436, 3.568793535232544, 3.7612671852111816, 3.59631085395813, 4.09949517250061, 3.516220808029175, 3.3585009574890137, 3.58172607421875, 3.8788950443267822, 3.1002049446105957, 3.121541738510132, 4.236628770828247, 3.5367088317871094, 3.4631896018981934, 3.195916175842285, 3.419466972351074, 3.338191270828247, 3.5004000663757324, 3.32438063621521, 3.420790672302246, 3.382589817047119, 4.478052854537964]\n"
          ]
        }
      ]
    },
    {
      "cell_type": "markdown",
      "source": [
        "## Visualize"
      ],
      "metadata": {
        "id": "1vUkZnS5Ka5W"
      }
    },
    {
      "cell_type": "code",
      "source": [
        "import numpy as np\n",
        "import matplotlib.pyplot as plt\n",
        "\n",
        "data = np.array(arr)\n",
        "percentiles = np.percentile(data, np.arange(0, 110, 10))\n",
        "\n",
        "plt.plot(np.arange(0, 110, 10), percentiles, 'o-')\n",
        "plt.xlabel(\"Percentile\")\n",
        "plt.ylabel(\"Second\")\n",
        "plt.title(\"Percentile Distribution of Data\")\n",
        "plt.show()"
      ],
      "metadata": {
        "id": "fMjmYpnG5S1A",
        "colab": {
          "base_uri": "https://localhost:8080/",
          "height": 472
        },
        "outputId": "1732be69-4bad-46d7-9672-ff10fd1bf276"
      },
      "execution_count": 6,
      "outputs": [
        {
          "output_type": "display_data",
          "data": {
            "text/plain": [
              "<Figure size 640x480 with 1 Axes>"
            ],
            "image/png": "[encoded data removed]"
          },
          "metadata": {}
        }
      ]
    }
  ]
}